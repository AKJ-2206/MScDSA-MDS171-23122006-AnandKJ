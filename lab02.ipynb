{
 "cells": [
  {
   "cell_type": "code",
   "execution_count": 17,
   "metadata": {},
   "outputs": [],
   "source": [
    "list=[]\n",
    "def primary(list):\n",
    "    a=0\n",
    "    name=input(\"Enter the Name: \")\n",
    "    \n",
    "    if name=='q':\n",
    "        print(\"Exit:\")\n",
    "    else:\n",
    "        name=name.title()\n",
    "        kj=name\n",
    "        kj=kj.replace(\" \",\"\")\n",
    "        tp=kj.isalpha()\n",
    "        if name in list:\n",
    "            print(\"The Name already exists\")\n",
    "            a=1\n",
    "        if tp==True and a==0: \n",
    "            list.append(name) \n",
    "            print(\"Name added\")\n",
    "\n",
    "        else:\n",
    "            print(\"Name not saved\" ) \n",
    "\n",
    "    print(list) \n",
    "\n",
    "\n",
    "\n",
    "\n"
   ]
  },
  {
   "cell_type": "code",
   "execution_count": 21,
   "metadata": {},
   "outputs": [
    {
     "name": "stdout",
     "output_type": "stream",
     "text": [
      "Exit:\n",
      "['Q', 'Anand ', 'John George Thattil']\n",
      "Name which is smallest: Q\n",
      "Name which is largest: John George Thattil\n"
     ]
    }
   ],
   "source": [
    "primary(list)\n",
    "largest = max(list, key=len)\n",
    "smallest = min(list, key=len)\n",
    "print(\"Name which is smallest:\",smallest)\n",
    "print(\"Name which is largest:\",largest)"
   ]
  },
  {
   "cell_type": "code",
   "execution_count": null,
   "metadata": {},
   "outputs": [],
   "source": []
  }
 ],
 "metadata": {
  "kernelspec": {
   "display_name": "Python 3",
   "language": "python",
   "name": "python3"
  },
  "language_info": {
   "codemirror_mode": {
    "name": "ipython",
    "version": 3
   },
   "file_extension": ".py",
   "mimetype": "text/x-python",
   "name": "python",
   "nbconvert_exporter": "python",
   "pygments_lexer": "ipython3",
   "version": "3.11.4"
  },
  "orig_nbformat": 4
 },
 "nbformat": 4,
 "nbformat_minor": 2
}
