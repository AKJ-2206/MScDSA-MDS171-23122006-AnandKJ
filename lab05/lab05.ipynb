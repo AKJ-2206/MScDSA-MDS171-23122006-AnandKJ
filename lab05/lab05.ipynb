{
 "cells": [
  {
   "cell_type": "code",
   "execution_count": 1,
   "metadata": {},
   "outputs": [],
   "source": [
    "import random\n",
    "def Item_list():\n",
    "    Item=[\"Rotti\",\"Rice\",\"Wheat\",\"Coffee Powder\",\"Bread\",\"Salt\",\"Peanut Butter\",\"Sugar\",\"Pepper Powder\",\"Vegetables\"]\n",
    "    Quantity=[\"1\",\"2\",\"5\",\"1\",\"2\",\"3\",\"1\",\"6\",\"7\",\"8\",\"6\"]\n",
    "    Price=[\"250\",\"100\",\"80\",\"160\",\"140\",\"100\",\"150\",\"140\",\"100\",\"160\"]\n",
    "\n",
    "    file = open(\"23122035.csv\",\"w+\")\n",
    "    for i in range(100):\n",
    "        rand1=random.randint(0,9)\n",
    "        rand2=random.randint(0,9)\n",
    "        rand3=random.randint(0,9)\n",
    "        Items = random.randint(0, 9)\n",
    "        int_Quantity = int(Quantity[rand2])\n",
    "        int_Price = int(Price[rand3])\n",
    "        total_price= int_Quantity*int_Price\n",
    "        total = str(total_price)\n",
    "        file.write(Item[rand1]+\",\"+Quantity[rand2]+\",\"+Price[rand3]+\",\"+\"\\t Total = \"+total+\"\\n\")\n",
    "        \n",
    "        \n",
    "\n",
    "\n",
    "\n",
    "    file.close()\n",
    "Item_list()"
   ]
  },
  {
   "cell_type": "code",
   "execution_count": null,
   "metadata": {},
   "outputs": [],
   "source": []
  }
 ],
 "metadata": {
  "kernelspec": {
   "display_name": "Python 3",
   "language": "python",
   "name": "python3"
  },
  "language_info": {
   "codemirror_mode": {
    "name": "ipython",
    "version": 3
   },
   "file_extension": ".py",
   "mimetype": "text/x-python",
   "name": "python",
   "nbconvert_exporter": "python",
   "pygments_lexer": "ipython3",
   "version": "3.11.4"
  },
  "orig_nbformat": 4
 },
 "nbformat": 4,
 "nbformat_minor": 2
}
